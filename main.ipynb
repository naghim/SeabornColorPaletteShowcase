{
 "cells": [
  {
   "cell_type": "code",
   "execution_count": null,
   "metadata": {},
   "outputs": [],
   "source": [
    "import numpy as np\n",
    "import seaborn as sns\n",
    "import math\n",
    "import matplotlib.pyplot as plt\n",
    "\n",
    "color_maps = [\n",
    "    'Accent', 'afmhot', 'autumn', 'binary', 'Blues', 'bone', 'BrBG', 'brg', 'BuGn', 'BuPu', 'bwr', 'cividis', 'CMRmap', 'cool', 'coolwarm', 'copper', 'crest', 'cubehelix', 'Dark2', 'flare', 'Greys', 'gist_earth', 'gist_gray', 'gist_heat', 'gist_ncar', 'gist_rainbow','gist_stern', 'gist_yarg', 'GnBu', 'gnuplot', 'gnuplot2', 'gray', 'Greens', 'hot', 'hsv', 'icefire', 'inferno', 'magma', 'mako', 'nipy_spectral', 'ocean', 'Oranges', 'OrRd', 'Paired', 'Pastel1', 'Pastel2', 'pink', 'PiYG', 'plasma', 'PRGn', 'PuBu', 'PuBuGn', 'PuOr', 'PuRd', 'Purples', 'rainbow', 'RdBu', 'RdGy', 'RdPu', 'RdYlBu', 'RdYlGn', 'Reds', 'rocket', 'seismic', 'Set1', 'Set2', 'Set3', 'Spectral', 'spring', 'summer', 'tab10', 'terrain', 'twilight', 'twilight_shifted', 'viridis', 'vlag', 'winter', 'Wistia', 'YlGn', 'YlGnBu', 'YlOrBr', 'YlOrRd',\n",
    "]\n",
    "\n",
    "color_maps_r = [f'{color_map}_r' for color_map in color_maps]\n",
    "color_maps = color_maps + color_maps_r\n",
    "\n",
    "# Generate random data the heatmaps\n",
    "data = np.random.randint(1, 11, size=(10, 10))\n",
    "\n",
    "col_num = 3\n",
    "row_num = math.ceil(len(color_maps) / col_num)\n",
    "\n",
    "# Calculate figure size based on number of rows and columns\n",
    "fig_width = 5 * col_num  \n",
    "fig_height = 3 * row_num  \n",
    "\n",
    "fig, axs = plt.subplots(row_num, col_num, figsize=(fig_width, fig_height))\n",
    "\n",
    "axs = axs.flatten()\n",
    "\n",
    "# Plot each heatmap\n",
    "for i, cmap in enumerate(color_maps):\n",
    "    ax = axs[i]\n",
    "    sns.heatmap(data, cmap=cmap, ax=ax, vmin=1, vmax=10)\n",
    "    ax.set_title(f\"Heatmap {i+1} - {cmap}\")\n",
    "    ax.set_xticks([])  # Hide x-axis ticks\n",
    "    ax.set_yticks([])  # Hide y-axis ticks\n",
    "    ax.set_aspect('equal')\n",
    "    \n",
    "# Hide any unused subplots\n",
    "for j in range(len(color_maps), row_num * col_num):\n",
    "    axs[j].axis('off')\n",
    "\n",
    "plt.tight_layout()\n",
    "plt.savefig('All_color_palettes.png')\n",
    "plt.savefig('All_color_palettes.pdf')\n",
    "plt.show()"
   ]
  }
 ],
 "metadata": {
  "kernelspec": {
   "display_name": "Python 3",
   "language": "python",
   "name": "python3"
  },
  "language_info": {
   "codemirror_mode": {
    "name": "ipython",
    "version": 3
   },
   "file_extension": ".py",
   "mimetype": "text/x-python",
   "name": "python",
   "nbconvert_exporter": "python",
   "pygments_lexer": "ipython3",
   "version": "3.12.3"
  }
 },
 "nbformat": 4,
 "nbformat_minor": 2
}
